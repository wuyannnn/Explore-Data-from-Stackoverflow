{
 "cells": [
  {
   "cell_type": "markdown",
   "metadata": {},
   "source": [
    "# Project: Write a Data Science Blog Post\n",
    "\n",
    "I choose to use the survey data of Stack Overflow from 2017 and 2018 and wonder that how things are changing? If I can find the answers to my following questions:\n",
    "- Compared to 2017, how the trend of commonly used programming languages is changing? which one is getting more favored?\n",
    "- How the propotion of male and female programmers look like?\n",
    "- Where are the respondents from, how it changes over time?"
   ]
  },
  {
   "cell_type": "code",
   "execution_count": 48,
   "metadata": {},
   "outputs": [],
   "source": [
    "# Import necessory libraries here.\n",
    "\n",
    "import numpy as np\n",
    "import pandas as pd\n",
    "import matplotlib.pyplot as plt\n",
    "import seaborn as sns\n",
    "\n",
    "from collections import Counter\n",
    "\n",
    "% matplotlib inline"
   ]
  },
  {
   "cell_type": "code",
   "execution_count": 49,
   "metadata": {},
   "outputs": [
    {
     "data": {
      "text/html": [
       "<div>\n",
       "<style scoped>\n",
       "    .dataframe tbody tr th:only-of-type {\n",
       "        vertical-align: middle;\n",
       "    }\n",
       "\n",
       "    .dataframe tbody tr th {\n",
       "        vertical-align: top;\n",
       "    }\n",
       "\n",
       "    .dataframe thead th {\n",
       "        text-align: right;\n",
       "    }\n",
       "</style>\n",
       "<table border=\"1\" class=\"dataframe\">\n",
       "  <thead>\n",
       "    <tr style=\"text-align: right;\">\n",
       "      <th></th>\n",
       "      <th>Respondent</th>\n",
       "      <th>Professional</th>\n",
       "      <th>ProgramHobby</th>\n",
       "      <th>Country</th>\n",
       "      <th>University</th>\n",
       "      <th>EmploymentStatus</th>\n",
       "      <th>FormalEducation</th>\n",
       "      <th>MajorUndergrad</th>\n",
       "      <th>HomeRemote</th>\n",
       "      <th>CompanySize</th>\n",
       "      <th>...</th>\n",
       "      <th>StackOverflowMakeMoney</th>\n",
       "      <th>Gender</th>\n",
       "      <th>HighestEducationParents</th>\n",
       "      <th>Race</th>\n",
       "      <th>SurveyLong</th>\n",
       "      <th>QuestionsInteresting</th>\n",
       "      <th>QuestionsConfusing</th>\n",
       "      <th>InterestedAnswers</th>\n",
       "      <th>Salary</th>\n",
       "      <th>ExpectedSalary</th>\n",
       "    </tr>\n",
       "  </thead>\n",
       "  <tbody>\n",
       "    <tr>\n",
       "      <th>0</th>\n",
       "      <td>1</td>\n",
       "      <td>Student</td>\n",
       "      <td>Yes, both</td>\n",
       "      <td>United States</td>\n",
       "      <td>No</td>\n",
       "      <td>Not employed, and not looking for work</td>\n",
       "      <td>Secondary school</td>\n",
       "      <td>NaN</td>\n",
       "      <td>NaN</td>\n",
       "      <td>NaN</td>\n",
       "      <td>...</td>\n",
       "      <td>Strongly disagree</td>\n",
       "      <td>Male</td>\n",
       "      <td>High school</td>\n",
       "      <td>White or of European descent</td>\n",
       "      <td>Strongly disagree</td>\n",
       "      <td>Strongly agree</td>\n",
       "      <td>Disagree</td>\n",
       "      <td>Strongly agree</td>\n",
       "      <td>NaN</td>\n",
       "      <td>NaN</td>\n",
       "    </tr>\n",
       "    <tr>\n",
       "      <th>1</th>\n",
       "      <td>2</td>\n",
       "      <td>Student</td>\n",
       "      <td>Yes, both</td>\n",
       "      <td>United Kingdom</td>\n",
       "      <td>Yes, full-time</td>\n",
       "      <td>Employed part-time</td>\n",
       "      <td>Some college/university study without earning ...</td>\n",
       "      <td>Computer science or software engineering</td>\n",
       "      <td>More than half, but not all, the time</td>\n",
       "      <td>20 to 99 employees</td>\n",
       "      <td>...</td>\n",
       "      <td>Strongly disagree</td>\n",
       "      <td>Male</td>\n",
       "      <td>A master's degree</td>\n",
       "      <td>White or of European descent</td>\n",
       "      <td>Somewhat agree</td>\n",
       "      <td>Somewhat agree</td>\n",
       "      <td>Disagree</td>\n",
       "      <td>Strongly agree</td>\n",
       "      <td>NaN</td>\n",
       "      <td>37500.0</td>\n",
       "    </tr>\n",
       "    <tr>\n",
       "      <th>2</th>\n",
       "      <td>3</td>\n",
       "      <td>Professional developer</td>\n",
       "      <td>Yes, both</td>\n",
       "      <td>United Kingdom</td>\n",
       "      <td>No</td>\n",
       "      <td>Employed full-time</td>\n",
       "      <td>Bachelor's degree</td>\n",
       "      <td>Computer science or software engineering</td>\n",
       "      <td>Less than half the time, but at least one day ...</td>\n",
       "      <td>10,000 or more employees</td>\n",
       "      <td>...</td>\n",
       "      <td>Disagree</td>\n",
       "      <td>Male</td>\n",
       "      <td>A professional degree</td>\n",
       "      <td>White or of European descent</td>\n",
       "      <td>Somewhat agree</td>\n",
       "      <td>Agree</td>\n",
       "      <td>Disagree</td>\n",
       "      <td>Agree</td>\n",
       "      <td>113750.0</td>\n",
       "      <td>NaN</td>\n",
       "    </tr>\n",
       "  </tbody>\n",
       "</table>\n",
       "<p>3 rows × 154 columns</p>\n",
       "</div>"
      ],
      "text/plain": [
       "   Respondent            Professional ProgramHobby         Country  \\\n",
       "0           1                 Student    Yes, both   United States   \n",
       "1           2                 Student    Yes, both  United Kingdom   \n",
       "2           3  Professional developer    Yes, both  United Kingdom   \n",
       "\n",
       "       University                        EmploymentStatus  \\\n",
       "0              No  Not employed, and not looking for work   \n",
       "1  Yes, full-time                      Employed part-time   \n",
       "2              No                      Employed full-time   \n",
       "\n",
       "                                     FormalEducation  \\\n",
       "0                                   Secondary school   \n",
       "1  Some college/university study without earning ...   \n",
       "2                                  Bachelor's degree   \n",
       "\n",
       "                             MajorUndergrad  \\\n",
       "0                                       NaN   \n",
       "1  Computer science or software engineering   \n",
       "2  Computer science or software engineering   \n",
       "\n",
       "                                          HomeRemote  \\\n",
       "0                                                NaN   \n",
       "1              More than half, but not all, the time   \n",
       "2  Less than half the time, but at least one day ...   \n",
       "\n",
       "                CompanySize       ...       StackOverflowMakeMoney Gender  \\\n",
       "0                       NaN       ...            Strongly disagree   Male   \n",
       "1        20 to 99 employees       ...            Strongly disagree   Male   \n",
       "2  10,000 or more employees       ...                     Disagree   Male   \n",
       "\n",
       "  HighestEducationParents                          Race         SurveyLong  \\\n",
       "0             High school  White or of European descent  Strongly disagree   \n",
       "1       A master's degree  White or of European descent     Somewhat agree   \n",
       "2   A professional degree  White or of European descent     Somewhat agree   \n",
       "\n",
       "  QuestionsInteresting QuestionsConfusing InterestedAnswers    Salary  \\\n",
       "0       Strongly agree           Disagree    Strongly agree       NaN   \n",
       "1       Somewhat agree           Disagree    Strongly agree       NaN   \n",
       "2                Agree           Disagree             Agree  113750.0   \n",
       "\n",
       "   ExpectedSalary  \n",
       "0             NaN  \n",
       "1         37500.0  \n",
       "2             NaN  \n",
       "\n",
       "[3 rows x 154 columns]"
      ]
     },
     "execution_count": 49,
     "metadata": {},
     "output_type": "execute_result"
    }
   ],
   "source": [
    "# Read in data\n",
    "df_17 = pd.read_csv('./2017_survey.csv')\n",
    "schema_17 = pd.read_csv('./2017_schema.csv')\n",
    "df_17.head(3)"
   ]
  },
  {
   "cell_type": "code",
   "execution_count": 50,
   "metadata": {},
   "outputs": [
    {
     "name": "stderr",
     "output_type": "stream",
     "text": [
      "C:\\ProgramData\\Anaconda3\\lib\\site-packages\\IPython\\core\\interactiveshell.py:2728: DtypeWarning: Columns (8,12,13,14,15,16,50,51,52,53,55,56,57,58,59,60,61,62,63,64,65,66,67,68,69,70,71,72,73,74,75,76,77,78,79,80,81,82,83,84,85,93,94,95,96,97,98,99,100,101,102,103,104,105,106,107,108,109,110,111,112,113,114,115,116,117,118,119,120,121,122,123,124,125,126,127,128) have mixed types. Specify dtype option on import or set low_memory=False.\n",
      "  interactivity=interactivity, compiler=compiler, result=result)\n"
     ]
    },
    {
     "data": {
      "text/html": [
       "<div>\n",
       "<style scoped>\n",
       "    .dataframe tbody tr th:only-of-type {\n",
       "        vertical-align: middle;\n",
       "    }\n",
       "\n",
       "    .dataframe tbody tr th {\n",
       "        vertical-align: top;\n",
       "    }\n",
       "\n",
       "    .dataframe thead th {\n",
       "        text-align: right;\n",
       "    }\n",
       "</style>\n",
       "<table border=\"1\" class=\"dataframe\">\n",
       "  <thead>\n",
       "    <tr style=\"text-align: right;\">\n",
       "      <th></th>\n",
       "      <th>Respondent</th>\n",
       "      <th>Hobby</th>\n",
       "      <th>OpenSource</th>\n",
       "      <th>Country</th>\n",
       "      <th>Student</th>\n",
       "      <th>Employment</th>\n",
       "      <th>FormalEducation</th>\n",
       "      <th>UndergradMajor</th>\n",
       "      <th>CompanySize</th>\n",
       "      <th>DevType</th>\n",
       "      <th>...</th>\n",
       "      <th>Exercise</th>\n",
       "      <th>Gender</th>\n",
       "      <th>SexualOrientation</th>\n",
       "      <th>EducationParents</th>\n",
       "      <th>RaceEthnicity</th>\n",
       "      <th>Age</th>\n",
       "      <th>Dependents</th>\n",
       "      <th>MilitaryUS</th>\n",
       "      <th>SurveyTooLong</th>\n",
       "      <th>SurveyEasy</th>\n",
       "    </tr>\n",
       "  </thead>\n",
       "  <tbody>\n",
       "    <tr>\n",
       "      <th>0</th>\n",
       "      <td>1</td>\n",
       "      <td>Yes</td>\n",
       "      <td>No</td>\n",
       "      <td>Kenya</td>\n",
       "      <td>No</td>\n",
       "      <td>Employed part-time</td>\n",
       "      <td>Bachelor’s degree (BA, BS, B.Eng., etc.)</td>\n",
       "      <td>Mathematics or statistics</td>\n",
       "      <td>20 to 99 employees</td>\n",
       "      <td>Full-stack developer</td>\n",
       "      <td>...</td>\n",
       "      <td>3 - 4 times per week</td>\n",
       "      <td>Male</td>\n",
       "      <td>Straight or heterosexual</td>\n",
       "      <td>Bachelor’s degree (BA, BS, B.Eng., etc.)</td>\n",
       "      <td>Black or of African descent</td>\n",
       "      <td>25 - 34 years old</td>\n",
       "      <td>Yes</td>\n",
       "      <td>NaN</td>\n",
       "      <td>The survey was an appropriate length</td>\n",
       "      <td>Very easy</td>\n",
       "    </tr>\n",
       "    <tr>\n",
       "      <th>1</th>\n",
       "      <td>3</td>\n",
       "      <td>Yes</td>\n",
       "      <td>Yes</td>\n",
       "      <td>United Kingdom</td>\n",
       "      <td>No</td>\n",
       "      <td>Employed full-time</td>\n",
       "      <td>Bachelor’s degree (BA, BS, B.Eng., etc.)</td>\n",
       "      <td>A natural science (ex. biology, chemistry, phy...</td>\n",
       "      <td>10,000 or more employees</td>\n",
       "      <td>Database administrator;DevOps specialist;Full-...</td>\n",
       "      <td>...</td>\n",
       "      <td>Daily or almost every day</td>\n",
       "      <td>Male</td>\n",
       "      <td>Straight or heterosexual</td>\n",
       "      <td>Bachelor’s degree (BA, BS, B.Eng., etc.)</td>\n",
       "      <td>White or of European descent</td>\n",
       "      <td>35 - 44 years old</td>\n",
       "      <td>Yes</td>\n",
       "      <td>NaN</td>\n",
       "      <td>The survey was an appropriate length</td>\n",
       "      <td>Somewhat easy</td>\n",
       "    </tr>\n",
       "    <tr>\n",
       "      <th>2</th>\n",
       "      <td>4</td>\n",
       "      <td>Yes</td>\n",
       "      <td>Yes</td>\n",
       "      <td>United States</td>\n",
       "      <td>No</td>\n",
       "      <td>Employed full-time</td>\n",
       "      <td>Associate degree</td>\n",
       "      <td>Computer science, computer engineering, or sof...</td>\n",
       "      <td>20 to 99 employees</td>\n",
       "      <td>Engineering manager;Full-stack developer</td>\n",
       "      <td>...</td>\n",
       "      <td>NaN</td>\n",
       "      <td>NaN</td>\n",
       "      <td>NaN</td>\n",
       "      <td>NaN</td>\n",
       "      <td>NaN</td>\n",
       "      <td>NaN</td>\n",
       "      <td>NaN</td>\n",
       "      <td>NaN</td>\n",
       "      <td>NaN</td>\n",
       "      <td>NaN</td>\n",
       "    </tr>\n",
       "  </tbody>\n",
       "</table>\n",
       "<p>3 rows × 129 columns</p>\n",
       "</div>"
      ],
      "text/plain": [
       "   Respondent Hobby OpenSource         Country Student          Employment  \\\n",
       "0           1   Yes         No           Kenya      No  Employed part-time   \n",
       "1           3   Yes        Yes  United Kingdom      No  Employed full-time   \n",
       "2           4   Yes        Yes   United States      No  Employed full-time   \n",
       "\n",
       "                            FormalEducation  \\\n",
       "0  Bachelor’s degree (BA, BS, B.Eng., etc.)   \n",
       "1  Bachelor’s degree (BA, BS, B.Eng., etc.)   \n",
       "2                          Associate degree   \n",
       "\n",
       "                                      UndergradMajor  \\\n",
       "0                          Mathematics or statistics   \n",
       "1  A natural science (ex. biology, chemistry, phy...   \n",
       "2  Computer science, computer engineering, or sof...   \n",
       "\n",
       "                CompanySize  \\\n",
       "0        20 to 99 employees   \n",
       "1  10,000 or more employees   \n",
       "2        20 to 99 employees   \n",
       "\n",
       "                                             DevType      ...        \\\n",
       "0                               Full-stack developer      ...         \n",
       "1  Database administrator;DevOps specialist;Full-...      ...         \n",
       "2           Engineering manager;Full-stack developer      ...         \n",
       "\n",
       "                    Exercise Gender         SexualOrientation  \\\n",
       "0       3 - 4 times per week   Male  Straight or heterosexual   \n",
       "1  Daily or almost every day   Male  Straight or heterosexual   \n",
       "2                        NaN    NaN                       NaN   \n",
       "\n",
       "                           EducationParents                 RaceEthnicity  \\\n",
       "0  Bachelor’s degree (BA, BS, B.Eng., etc.)   Black or of African descent   \n",
       "1  Bachelor’s degree (BA, BS, B.Eng., etc.)  White or of European descent   \n",
       "2                                       NaN                           NaN   \n",
       "\n",
       "                 Age Dependents  MilitaryUS  \\\n",
       "0  25 - 34 years old        Yes         NaN   \n",
       "1  35 - 44 years old        Yes         NaN   \n",
       "2                NaN        NaN         NaN   \n",
       "\n",
       "                          SurveyTooLong     SurveyEasy  \n",
       "0  The survey was an appropriate length      Very easy  \n",
       "1  The survey was an appropriate length  Somewhat easy  \n",
       "2                                   NaN            NaN  \n",
       "\n",
       "[3 rows x 129 columns]"
      ]
     },
     "execution_count": 50,
     "metadata": {},
     "output_type": "execute_result"
    }
   ],
   "source": [
    "df_18 = pd.read_csv('./2018_survey.csv')\n",
    "schema_18 = pd.read_csv('./2018_schema.csv')\n",
    "df_18.head(3)"
   ]
  },
  {
   "cell_type": "code",
   "execution_count": 51,
   "metadata": {},
   "outputs": [
    {
     "data": {
      "text/html": [
       "<div>\n",
       "<style scoped>\n",
       "    .dataframe tbody tr th:only-of-type {\n",
       "        vertical-align: middle;\n",
       "    }\n",
       "\n",
       "    .dataframe tbody tr th {\n",
       "        vertical-align: top;\n",
       "    }\n",
       "\n",
       "    .dataframe thead th {\n",
       "        text-align: right;\n",
       "    }\n",
       "</style>\n",
       "<table border=\"1\" class=\"dataframe\">\n",
       "  <thead>\n",
       "    <tr style=\"text-align: right;\">\n",
       "      <th></th>\n",
       "      <th>Column</th>\n",
       "      <th>Question</th>\n",
       "    </tr>\n",
       "  </thead>\n",
       "  <tbody>\n",
       "    <tr>\n",
       "      <th>0</th>\n",
       "      <td>Respondent</td>\n",
       "      <td>Respondent ID number</td>\n",
       "    </tr>\n",
       "    <tr>\n",
       "      <th>1</th>\n",
       "      <td>Professional</td>\n",
       "      <td>Which of the following best describes you?</td>\n",
       "    </tr>\n",
       "    <tr>\n",
       "      <th>2</th>\n",
       "      <td>ProgramHobby</td>\n",
       "      <td>Do you program as a hobby or contribute to ope...</td>\n",
       "    </tr>\n",
       "  </tbody>\n",
       "</table>\n",
       "</div>"
      ],
      "text/plain": [
       "         Column                                           Question\n",
       "0    Respondent                               Respondent ID number\n",
       "1  Professional         Which of the following best describes you?\n",
       "2  ProgramHobby  Do you program as a hobby or contribute to ope..."
      ]
     },
     "execution_count": 51,
     "metadata": {},
     "output_type": "execute_result"
    }
   ],
   "source": [
    "schema_17.head(3)"
   ]
  },
  {
   "cell_type": "code",
   "execution_count": 52,
   "metadata": {},
   "outputs": [
    {
     "data": {
      "text/plain": [
       "'Respondent ID number'"
      ]
     },
     "execution_count": 52,
     "metadata": {},
     "output_type": "execute_result"
    }
   ],
   "source": [
    "schema_17.Question[list(schema_17.Column).index('Respondent')]"
   ]
  },
  {
   "cell_type": "code",
   "execution_count": 53,
   "metadata": {},
   "outputs": [
    {
     "data": {
      "text/html": [
       "<div>\n",
       "<style scoped>\n",
       "    .dataframe tbody tr th:only-of-type {\n",
       "        vertical-align: middle;\n",
       "    }\n",
       "\n",
       "    .dataframe tbody tr th {\n",
       "        vertical-align: top;\n",
       "    }\n",
       "\n",
       "    .dataframe thead th {\n",
       "        text-align: right;\n",
       "    }\n",
       "</style>\n",
       "<table border=\"1\" class=\"dataframe\">\n",
       "  <thead>\n",
       "    <tr style=\"text-align: right;\">\n",
       "      <th></th>\n",
       "      <th>Column</th>\n",
       "      <th>QuestionText</th>\n",
       "    </tr>\n",
       "  </thead>\n",
       "  <tbody>\n",
       "    <tr>\n",
       "      <th>0</th>\n",
       "      <td>Respondent</td>\n",
       "      <td>Randomized respondent ID number (not in order ...</td>\n",
       "    </tr>\n",
       "    <tr>\n",
       "      <th>1</th>\n",
       "      <td>Hobby</td>\n",
       "      <td>Do you code as a hobby?</td>\n",
       "    </tr>\n",
       "    <tr>\n",
       "      <th>2</th>\n",
       "      <td>OpenSource</td>\n",
       "      <td>Do you contribute to open source projects?</td>\n",
       "    </tr>\n",
       "  </tbody>\n",
       "</table>\n",
       "</div>"
      ],
      "text/plain": [
       "       Column                                       QuestionText\n",
       "0  Respondent  Randomized respondent ID number (not in order ...\n",
       "1       Hobby                            Do you code as a hobby?\n",
       "2  OpenSource         Do you contribute to open source projects?"
      ]
     },
     "execution_count": 53,
     "metadata": {},
     "output_type": "execute_result"
    }
   ],
   "source": [
    "schema_18.head(3)"
   ]
  },
  {
   "cell_type": "code",
   "execution_count": 54,
   "metadata": {},
   "outputs": [
    {
     "name": "stdout",
     "output_type": "stream",
     "text": [
      "Data 2017: (51392, 154)\n",
      "Data 2018: (98855, 129)\n"
     ]
    }
   ],
   "source": [
    "print('Data 2017: {}'.format(df_17.shape))\n",
    "print('Data 2018: {}'.format(df_18.shape))"
   ]
  },
  {
   "cell_type": "code",
   "execution_count": 55,
   "metadata": {},
   "outputs": [
    {
     "name": "stdout",
     "output_type": "stream",
     "text": [
      "Schema 2017: (154, 2)\n",
      "Schema 2018: (129, 2)\n"
     ]
    }
   ],
   "source": [
    "print('Schema 2017: {}'.format(schema_17.shape))\n",
    "print('Schema 2018: {}'.format(schema_18.shape))"
   ]
  },
  {
   "cell_type": "markdown",
   "metadata": {},
   "source": [
    "_To understand the data better before getting started, i want to explore the both datasets first.There are 25 fewer columns in data 2018 than 2017, **which questions(columns) have been removed (or just named differently)？ which are kept and are there new columns are added？**._"
   ]
  },
  {
   "cell_type": "code",
   "execution_count": 56,
   "metadata": {},
   "outputs": [],
   "source": [
    "# extract the columns and save to lists\n",
    "cols_17= list(df_17.columns)\n",
    "cols_18= list(df_18.columns)"
   ]
  },
  {
   "cell_type": "code",
   "execution_count": 57,
   "metadata": {},
   "outputs": [
    {
     "name": "stdout",
     "output_type": "stream",
     "text": [
      "kept cols:17 ['Respondent', 'Country', 'FormalEducation', 'CompanySize', 'JobSatisfaction', 'CareerSatisfaction', 'LastNewJob', 'Currency', 'Salary', 'EducationTypes', 'SelfTaughtTypes', 'TimeAfterBootcamp', 'IDE', 'Methodology', 'VersionControl', 'CheckInCode', 'Gender']\n",
      "removed cols:137 ['Professional', 'ProgramHobby', 'University', 'EmploymentStatus', 'MajorUndergrad', 'HomeRemote', 'CompanyType', 'YearsProgram', 'YearsCodedJob', 'YearsCodedJobPast', 'DeveloperType', 'WebDeveloperType', 'MobileDeveloperType', 'NonDeveloperType', 'ExCoderReturn', 'ExCoderNotForMe', 'ExCoderBalance', 'ExCoder10Years', 'ExCoderBelonged', 'ExCoderSkills', 'ExCoderWillNotCode', 'ExCoderActive', 'PronounceGIF', 'ProblemSolving', 'BuildingThings', 'LearningNewTech', 'BoringDetails', 'JobSecurity', 'DiversityImportant', 'AnnoyingUI', 'FriendsDevelopers', 'RightWrongWay', 'UnderstandComputers', 'SeriousWork', 'InvestTimeTools', 'WorkPayCare', 'KinshipDevelopers', 'ChallengeMyself', 'CompetePeers', 'ChangeWorld', 'JobSeekingStatus', 'HoursPerWeek', 'AssessJobIndustry', 'AssessJobRole', 'AssessJobExp', 'AssessJobDept', 'AssessJobTech', 'AssessJobProjects', 'AssessJobCompensation', 'AssessJobOffice', 'AssessJobCommute', 'AssessJobRemote', 'AssessJobLeaders', 'AssessJobProfDevel', 'AssessJobDiversity', 'AssessJobProduct', 'AssessJobFinances', 'ImportantBenefits', 'ClickyKeys', 'JobProfile', 'ResumePrompted', 'LearnedHiring', 'ImportantHiringAlgorithms', 'ImportantHiringTechExp', 'ImportantHiringCommunication', 'ImportantHiringOpenSource', 'ImportantHiringPMExp', 'ImportantHiringCompanies', 'ImportantHiringTitles', 'ImportantHiringEducation', 'ImportantHiringRep', 'ImportantHiringGettingThingsDone', 'Overpaid', 'TabsSpaces', 'EducationImportant', 'CousinEducation', 'WorkStart', 'HaveWorkedLanguage', 'WantWorkLanguage', 'HaveWorkedFramework', 'WantWorkFramework', 'HaveWorkedDatabase', 'WantWorkDatabase', 'HaveWorkedPlatform', 'WantWorkPlatform', 'AuditoryEnvironment', 'ShipIt', 'OtherPeoplesCode', 'ProjectManagement', 'EnjoyDebugging', 'InTheZone', 'DifficultCommunication', 'CollaborateRemote', 'MetricAssess', 'EquipmentSatisfiedMonitors', 'EquipmentSatisfiedCPU', 'EquipmentSatisfiedRAM', 'EquipmentSatisfiedStorage', 'EquipmentSatisfiedRW', 'InfluenceInternet', 'InfluenceWorkstation', 'InfluenceHardware', 'InfluenceServers', 'InfluenceTechStack', 'InfluenceDeptTech', 'InfluenceVizTools', 'InfluenceDatabase', 'InfluenceCloud', 'InfluenceConsultants', 'InfluenceRecruitment', 'InfluenceCommunication', 'StackOverflowDescribes', 'StackOverflowSatisfaction', 'StackOverflowDevices', 'StackOverflowFoundAnswer', 'StackOverflowCopiedCode', 'StackOverflowJobListing', 'StackOverflowCompanyPage', 'StackOverflowJobSearch', 'StackOverflowNewQuestion', 'StackOverflowAnswer', 'StackOverflowMetaChat', 'StackOverflowAdsRelevant', 'StackOverflowAdsDistracting', 'StackOverflowModeration', 'StackOverflowCommunity', 'StackOverflowHelpful', 'StackOverflowBetter', 'StackOverflowWhatDo', 'StackOverflowMakeMoney', 'HighestEducationParents', 'Race', 'SurveyLong', 'QuestionsInteresting', 'QuestionsConfusing', 'InterestedAnswers', 'ExpectedSalary']\n",
      "new cols:112 ['Hobby', 'OpenSource', 'Student', 'Employment', 'UndergradMajor', 'DevType', 'YearsCoding', 'YearsCodingProf', 'HopeFiveYears', 'JobSearchStatus', 'AssessJob1', 'AssessJob2', 'AssessJob3', 'AssessJob4', 'AssessJob5', 'AssessJob6', 'AssessJob7', 'AssessJob8', 'AssessJob9', 'AssessJob10', 'AssessBenefits1', 'AssessBenefits2', 'AssessBenefits3', 'AssessBenefits4', 'AssessBenefits5', 'AssessBenefits6', 'AssessBenefits7', 'AssessBenefits8', 'AssessBenefits9', 'AssessBenefits10', 'AssessBenefits11', 'JobContactPriorities1', 'JobContactPriorities2', 'JobContactPriorities3', 'JobContactPriorities4', 'JobContactPriorities5', 'JobEmailPriorities1', 'JobEmailPriorities2', 'JobEmailPriorities3', 'JobEmailPriorities4', 'JobEmailPriorities5', 'JobEmailPriorities6', 'JobEmailPriorities7', 'UpdateCV', 'SalaryType', 'ConvertedSalary', 'CurrencySymbol', 'CommunicationTools', 'TimeFullyProductive', 'HackathonReasons', 'AgreeDisagree1', 'AgreeDisagree2', 'AgreeDisagree3', 'LanguageWorkedWith', 'LanguageDesireNextYear', 'DatabaseWorkedWith', 'DatabaseDesireNextYear', 'PlatformWorkedWith', 'PlatformDesireNextYear', 'FrameworkWorkedWith', 'FrameworkDesireNextYear', 'OperatingSystem', 'NumberMonitors', 'AdBlocker', 'AdBlockerDisable', 'AdBlockerReasons', 'AdsAgreeDisagree1', 'AdsAgreeDisagree2', 'AdsAgreeDisagree3', 'AdsActions', 'AdsPriorities1', 'AdsPriorities2', 'AdsPriorities3', 'AdsPriorities4', 'AdsPriorities5', 'AdsPriorities6', 'AdsPriorities7', 'AIDangerous', 'AIInteresting', 'AIResponsible', 'AIFuture', 'EthicsChoice', 'EthicsReport', 'EthicsResponsible', 'EthicalImplications', 'StackOverflowRecommend', 'StackOverflowVisit', 'StackOverflowHasAccount', 'StackOverflowParticipate', 'StackOverflowJobs', 'StackOverflowDevStory', 'StackOverflowJobsRecommend', 'StackOverflowConsiderMember', 'HypotheticalTools1', 'HypotheticalTools2', 'HypotheticalTools3', 'HypotheticalTools4', 'HypotheticalTools5', 'WakeTime', 'HoursComputer', 'HoursOutside', 'SkipMeals', 'ErgonomicDevices', 'Exercise', 'SexualOrientation', 'EducationParents', 'RaceEthnicity', 'Age', 'Dependents', 'MilitaryUS', 'SurveyTooLong', 'SurveyEasy']\n"
     ]
    }
   ],
   "source": [
    "kept = []\n",
    "removed = []\n",
    "new = []\n",
    "\n",
    "for col in cols_18:\n",
    "    if col in cols_17:\n",
    "        kept.append(col)\n",
    "    else:\n",
    "        new.append(col)\n",
    "\n",
    "for col in cols_17:\n",
    "    if col not in cols_18:\n",
    "        removed.append(col) \n",
    "        \n",
    "print('kept cols:{} {}'.format(len(kept),kept))\n",
    "\n",
    "print('removed cols:{} {}'.format(len(removed),removed))\n",
    "\n",
    "print('new cols:{} {}'.format(len(new), new))"
   ]
  },
  {
   "cell_type": "markdown",
   "metadata": {},
   "source": [
    "_Compared the column names between 2017 and 2018, we see that some of names remain, but more columns are named differently.If i need those data for analysis later, i have to rename them._"
   ]
  },
  {
   "cell_type": "markdown",
   "metadata": {},
   "source": [
    "### Quesion 1\n",
    "**Compared to 2017, how the trend of commonly used programming languages is changing in 2018? which one is getting more favored?**\n",
    "\n",
    "_To answer this question, I need the data from columns **'HaveWorkedLanguage', 'WantWorkLanguage'** for 2017 and **'LanguageWorkedWith', 'LanguageDesireNextYear'** for 2018._"
   ]
  },
  {
   "cell_type": "code",
   "execution_count": 58,
   "metadata": {},
   "outputs": [],
   "source": [
    "# Rename column 'QuestionText' in schema_18 to 'Question' as in schema_17\n",
    "\n",
    "schema_18.rename(columns={'QuestionText':'Question'},inplace=True)"
   ]
  },
  {
   "cell_type": "code",
   "execution_count": 59,
   "metadata": {},
   "outputs": [
    {
     "data": {
      "text/plain": [
       "'Which of the following programming, scripting, and markup languages have you done extensive development work in over the past year, and which do you want to work in over the next year?  (If you both worked with the language and want to continue to do so, please check both boxes in that row.)'"
      ]
     },
     "execution_count": 59,
     "metadata": {},
     "output_type": "execute_result"
    }
   ],
   "source": [
    "# Column names are abbreviated, write a function to get description\n",
    "\n",
    "def get_described(col, schema):\n",
    "    col_list = list(schema['Column'])\n",
    "    if col in col_list:\n",
    "        return schema.Question[list(schema.Column).index(col)]\n",
    "    else:\n",
    "        print('wrong column name!')\n",
    "    \n",
    "get_described('LanguageWorkedWith', schema_18)"
   ]
  },
  {
   "cell_type": "code",
   "execution_count": 60,
   "metadata": {},
   "outputs": [
    {
     "data": {
      "text/plain": [
       "count                          78334\n",
       "unique                         26678\n",
       "top       C#;JavaScript;SQL;HTML;CSS\n",
       "freq                            1347\n",
       "Name: LanguageWorkedWith, dtype: object"
      ]
     },
     "execution_count": 60,
     "metadata": {},
     "output_type": "execute_result"
    }
   ],
   "source": [
    "df_18.LanguageWorkedWith.describe()"
   ]
  },
  {
   "cell_type": "code",
   "execution_count": 61,
   "metadata": {},
   "outputs": [
    {
     "data": {
      "text/plain": [
       "count      73244\n",
       "unique     28657\n",
       "top       Python\n",
       "freq         908\n",
       "Name: LanguageDesireNextYear, dtype: object"
      ]
     },
     "execution_count": 61,
     "metadata": {},
     "output_type": "execute_result"
    }
   ],
   "source": [
    "df_18.LanguageDesireNextYear.describe()"
   ]
  },
  {
   "cell_type": "code",
   "execution_count": 62,
   "metadata": {},
   "outputs": [
    {
     "name": "stderr",
     "output_type": "stream",
     "text": [
      "C:\\ProgramData\\Anaconda3\\lib\\site-packages\\pandas\\core\\frame.py:3027: SettingWithCopyWarning: \n",
      "A value is trying to be set on a copy of a slice from a DataFrame\n",
      "\n",
      "See the caveats in the documentation: http://pandas.pydata.org/pandas-docs/stable/indexing.html#indexing-view-versus-copy\n",
      "  return super(DataFrame, self).rename(**kwargs)\n"
     ]
    },
    {
     "data": {
      "text/html": [
       "<div>\n",
       "<style scoped>\n",
       "    .dataframe tbody tr th:only-of-type {\n",
       "        vertical-align: middle;\n",
       "    }\n",
       "\n",
       "    .dataframe tbody tr th {\n",
       "        vertical-align: top;\n",
       "    }\n",
       "\n",
       "    .dataframe thead th {\n",
       "        text-align: right;\n",
       "    }\n",
       "</style>\n",
       "<table border=\"1\" class=\"dataframe\">\n",
       "  <thead>\n",
       "    <tr style=\"text-align: right;\">\n",
       "      <th></th>\n",
       "      <th>Now</th>\n",
       "      <th>Dream</th>\n",
       "    </tr>\n",
       "  </thead>\n",
       "  <tbody>\n",
       "    <tr>\n",
       "      <th>0</th>\n",
       "      <td>Swift</td>\n",
       "      <td>Swift</td>\n",
       "    </tr>\n",
       "    <tr>\n",
       "      <th>1</th>\n",
       "      <td>JavaScript; Python; Ruby; SQL</td>\n",
       "      <td>Java; Python; Ruby; SQL</td>\n",
       "    </tr>\n",
       "    <tr>\n",
       "      <th>2</th>\n",
       "      <td>Java; PHP; Python</td>\n",
       "      <td>C; Python; Rust</td>\n",
       "    </tr>\n",
       "    <tr>\n",
       "      <th>3</th>\n",
       "      <td>Matlab; Python; R; SQL</td>\n",
       "      <td>Matlab; Python; R; SQL</td>\n",
       "    </tr>\n",
       "    <tr>\n",
       "      <th>4</th>\n",
       "      <td>NaN</td>\n",
       "      <td>NaN</td>\n",
       "    </tr>\n",
       "  </tbody>\n",
       "</table>\n",
       "</div>"
      ],
      "text/plain": [
       "                             Now                    Dream\n",
       "0                          Swift                    Swift\n",
       "1  JavaScript; Python; Ruby; SQL  Java; Python; Ruby; SQL\n",
       "2              Java; PHP; Python          C; Python; Rust\n",
       "3         Matlab; Python; R; SQL   Matlab; Python; R; SQL\n",
       "4                            NaN                      NaN"
      ]
     },
     "execution_count": 62,
     "metadata": {},
     "output_type": "execute_result"
    }
   ],
   "source": [
    "# create smaller datasets and rename the columns for further analysis\n",
    "\n",
    "lan_17 = df_17[['HaveWorkedLanguage','WantWorkLanguage']]\n",
    "lan_17.rename(columns={'HaveWorkedLanguage':'Now','WantWorkLanguage':'Dream'},inplace = True)\n",
    "lan_18 = df_18[['LanguageWorkedWith','LanguageDesireNextYear']]\n",
    "lan_18.rename(columns={'LanguageWorkedWith':'Now','LanguageDesireNextYear':'Dream'},inplace = True)\n",
    "lan_17.head()"
   ]
  },
  {
   "cell_type": "code",
   "execution_count": 63,
   "metadata": {},
   "outputs": [],
   "source": [
    "# Create subsets and drop NaNs.\n",
    "lan_17_now = lan_17[['Now']].dropna().reset_index(drop=True)\n",
    "lan_17_dream = lan_17[['Dream']].dropna().reset_index(drop=True)\n",
    "\n",
    "lan_18_now = lan_18[['Now']].dropna().reset_index(drop=True)\n",
    "lan_18_dream = lan_18[['Dream']].dropna().reset_index(drop=True)"
   ]
  },
  {
   "cell_type": "code",
   "execution_count": 64,
   "metadata": {},
   "outputs": [
    {
     "data": {
      "text/html": [
       "<div>\n",
       "<style scoped>\n",
       "    .dataframe tbody tr th:only-of-type {\n",
       "        vertical-align: middle;\n",
       "    }\n",
       "\n",
       "    .dataframe tbody tr th {\n",
       "        vertical-align: top;\n",
       "    }\n",
       "\n",
       "    .dataframe thead th {\n",
       "        text-align: right;\n",
       "    }\n",
       "</style>\n",
       "<table border=\"1\" class=\"dataframe\">\n",
       "  <thead>\n",
       "    <tr style=\"text-align: right;\">\n",
       "      <th></th>\n",
       "      <th>Now</th>\n",
       "    </tr>\n",
       "  </thead>\n",
       "  <tbody>\n",
       "    <tr>\n",
       "      <th>0</th>\n",
       "      <td>Swift</td>\n",
       "    </tr>\n",
       "    <tr>\n",
       "      <th>1</th>\n",
       "      <td>JavaScript; Python; Ruby; SQL</td>\n",
       "    </tr>\n",
       "    <tr>\n",
       "      <th>2</th>\n",
       "      <td>Java; PHP; Python</td>\n",
       "    </tr>\n",
       "    <tr>\n",
       "      <th>3</th>\n",
       "      <td>Matlab; Python; R; SQL</td>\n",
       "    </tr>\n",
       "    <tr>\n",
       "      <th>4</th>\n",
       "      <td>JavaScript; PHP; Rust</td>\n",
       "    </tr>\n",
       "  </tbody>\n",
       "</table>\n",
       "</div>"
      ],
      "text/plain": [
       "                             Now\n",
       "0                          Swift\n",
       "1  JavaScript; Python; Ruby; SQL\n",
       "2              Java; PHP; Python\n",
       "3         Matlab; Python; R; SQL\n",
       "4          JavaScript; PHP; Rust"
      ]
     },
     "execution_count": 64,
     "metadata": {},
     "output_type": "execute_result"
    }
   ],
   "source": [
    "lan_17_now.head(5)"
   ]
  },
  {
   "cell_type": "markdown",
   "metadata": {},
   "source": [
    "_Since it's a multiple-choice question, most respondents have chosen more than one languages,so each row need to be break down._"
   ]
  },
  {
   "cell_type": "code",
   "execution_count": 65,
   "metadata": {},
   "outputs": [],
   "source": [
    "# break down the rows and count frequency of each elements.\n",
    "languages_17n = {}\n",
    "\n",
    "for i in range(lan_17_now.shape[0]):\n",
    "    temp = lan_17_now.Now[i].split(';')\n",
    "    for t in temp:\n",
    "        t = t.strip()\n",
    "        if t not in languages_17n:\n",
    "            languages_17n[t] = 1\n",
    "        else:\n",
    "            languages_17n[t] += 1"
   ]
  },
  {
   "cell_type": "code",
   "execution_count": 66,
   "metadata": {},
   "outputs": [],
   "source": [
    "languages_17d = {}\n",
    "\n",
    "for i in range(lan_17_dream.shape[0]):\n",
    "    temp = lan_17_dream.Dream[i].split(';')\n",
    "    for t in temp:\n",
    "        t = t.strip()\n",
    "        if t not in languages_17d:\n",
    "            languages_17d[t] = 1\n",
    "        else:\n",
    "            languages_17d[t] += 1"
   ]
  },
  {
   "cell_type": "code",
   "execution_count": 67,
   "metadata": {},
   "outputs": [],
   "source": [
    "languages_18n = {}\n",
    "\n",
    "for i in range(lan_18_now.shape[0]):\n",
    "    temp = lan_18_now.Now[i].split(';')\n",
    "    for t in temp:\n",
    "        t = t.strip()\n",
    "        if t not in languages_18n:\n",
    "            languages_18n[t] = 1\n",
    "        else:\n",
    "            languages_18n[t] += 1"
   ]
  },
  {
   "cell_type": "code",
   "execution_count": 68,
   "metadata": {},
   "outputs": [],
   "source": [
    "languages_18d = {}\n",
    "\n",
    "for i in range(lan_18_dream.shape[0]):\n",
    "    temp = lan_18_dream.Dream[i].split(';')\n",
    "    for t in temp:\n",
    "        t = t.strip()\n",
    "        if t not in languages_18d:\n",
    "            languages_18d[t] = 1\n",
    "        else:\n",
    "            languages_18d[t] += 1"
   ]
  },
  {
   "cell_type": "code",
   "execution_count": 69,
   "metadata": {},
   "outputs": [],
   "source": [
    "df_17n = pd.DataFrame(list(languages_17n.items()),columns=['Language','Mentioned_times'])\n",
    "df_17n_10 = df_17n.sort_values(by='Mentioned_times', ascending=False).reset_index(drop=True).head(10)\n",
    "\n",
    "df_17d = pd.DataFrame(list(languages_17d.items()),columns=['Language','Mentioned_times'])\n",
    "df_17d_10 = df_17d.sort_values(by='Mentioned_times', ascending=False).reset_index(drop=True).head(10)\n",
    "\n",
    "df_18n = pd.DataFrame(list(languages_18n.items()),columns=['Language','Mentioned_times'])\n",
    "df_18n_10 = df_18n.sort_values(by='Mentioned_times', ascending=False).reset_index(drop=True).head(10)\n",
    "\n",
    "df_18d = pd.DataFrame(list(languages_18d.items()),columns=['Language','Mentioned_times'])\n",
    "df_18d_10 = df_18d.sort_values(by='Mentioned_times', ascending=False).reset_index(drop=True).head(10)"
   ]
  },
  {
   "cell_type": "code",
   "execution_count": 70,
   "metadata": {},
   "outputs": [
    {
     "data": {
      "text/plain": [
       "0              Swift\n",
       "1         JavaScript\n",
       "2             Python\n",
       "3               Ruby\n",
       "4                SQL\n",
       "5               Java\n",
       "6                PHP\n",
       "7             Matlab\n",
       "8                  R\n",
       "9               Rust\n",
       "10      CoffeeScript\n",
       "11           Clojure\n",
       "12            Elixir\n",
       "13            Erlang\n",
       "14           Haskell\n",
       "15                C#\n",
       "16       Objective-C\n",
       "17                 C\n",
       "18               C++\n",
       "19          Assembly\n",
       "20            VB.NET\n",
       "21              Perl\n",
       "22             Scala\n",
       "23                F#\n",
       "24        TypeScript\n",
       "25               Lua\n",
       "26               VBA\n",
       "27            Groovy\n",
       "28                Go\n",
       "29         Smalltalk\n",
       "30    Visual Basic 6\n",
       "31       Common Lisp\n",
       "32              Dart\n",
       "33             Julia\n",
       "34              Hack\n",
       "Name: Language, dtype: object"
      ]
     },
     "execution_count": 70,
     "metadata": {},
     "output_type": "execute_result"
    }
   ],
   "source": [
    "df_17n.Language"
   ]
  },
  {
   "cell_type": "code",
   "execution_count": 71,
   "metadata": {},
   "outputs": [
    {
     "data": {
      "text/plain": [
       "0               JavaScript\n",
       "1                   Python\n",
       "2                     HTML\n",
       "3                      CSS\n",
       "4               Bash/Shell\n",
       "5                       C#\n",
       "6                      SQL\n",
       "7               TypeScript\n",
       "8                        C\n",
       "9                      C++\n",
       "10                    Java\n",
       "11                  Matlab\n",
       "12                       R\n",
       "13                Assembly\n",
       "14            CoffeeScript\n",
       "15                  Erlang\n",
       "16                      Go\n",
       "17                     Lua\n",
       "18                    Ruby\n",
       "19                     PHP\n",
       "20                  VB.NET\n",
       "21                   Swift\n",
       "22                  Groovy\n",
       "23                  Kotlin\n",
       "24             Objective-C\n",
       "25                   Scala\n",
       "26                      F#\n",
       "27                 Haskell\n",
       "28                    Rust\n",
       "29                   Julia\n",
       "30                     VBA\n",
       "31                    Perl\n",
       "32                   Cobol\n",
       "33          Visual Basic 6\n",
       "34    Delphi/Object Pascal\n",
       "35                    Hack\n",
       "36                 Clojure\n",
       "37                   Ocaml\n",
       "Name: Language, dtype: object"
      ]
     },
     "execution_count": 71,
     "metadata": {},
     "output_type": "execute_result"
    }
   ],
   "source": [
    "df_18n.Language"
   ]
  },
  {
   "cell_type": "code",
   "execution_count": 72,
   "metadata": {},
   "outputs": [
    {
     "data": {
      "image/png": "[encoded data removed]",
      "text/plain": [
       "<matplotlib.figure.Figure at 0x1f6af538898>"
      ]
     },
     "metadata": {},
     "output_type": "display_data"
    }
   ],
   "source": [
    "# visualize the results\n",
    "plt.figure(figsize=(16,10))\n",
    "\n",
    "plt.subplot(2,2,1)\n",
    "plt.barh(range(10,0,-1), df_17n_10.Mentioned_times, height=0.7, color='steelblue', alpha=0.8)    \n",
    "plt.yticks(range(10,0,-1), df_17n_10.Language)\n",
    "plt.xlim(0,30000)\n",
    "plt.xlabel(\"mentioned times in survey\")\n",
    "plt.title(\"TOP10 used programming languages in 2017\")\n",
    "for x, y in enumerate(df_17n_10.Mentioned_times.sort_values()):\n",
    "    plt.text(y + 800, x + 0.9, '%s' % y)\n",
    "\n",
    "plt.subplot(2,2,2)\n",
    "plt.barh(range(10,0,-1), df_17d_10.Mentioned_times, height=0.7, color='steelblue', alpha=0.8)    \n",
    "plt.yticks(range(10,0,-1), df_17d_10.Language)\n",
    "plt.xlim(0,30000)\n",
    "plt.xlabel(\"mentioned times in survey\")\n",
    "plt.title(\"TOP10 wanted programming languages in 2017\")\n",
    "for x, y in enumerate(df_17d_10.Mentioned_times.sort_values()):\n",
    "    plt.text(y + 800, x + 0.9, '%s' % y)\n",
    "\n",
    "plt.subplot(2,2,3)\n",
    "plt.barh(range(10,0,-1), df_18n_10.Mentioned_times, height=0.7, color='steelblue', alpha=0.8)    \n",
    "plt.yticks(range(10,0,-1), df_18n_10.Language)\n",
    "plt.xlim(0,60000)\n",
    "plt.xlabel(\"mentioned times in survey\")\n",
    "plt.title(\"TOP10 used programming languages in 2018\")\n",
    "for x, y in enumerate(df_18n_10.Mentioned_times.sort_values()):\n",
    "    plt.text(y + 800, x + 0.9, '%s' % y)\n",
    "\n",
    "plt.subplot(2,2,4)\n",
    "plt.barh(range(10,0,-1), df_18d_10.Mentioned_times, height=0.7, color='steelblue', alpha=0.8)    \n",
    "plt.yticks(range(10,0,-1), df_18d_10.Language)\n",
    "plt.xlim(0,60000)\n",
    "plt.xlabel(\"mentioned times in survey\")\n",
    "plt.title(\"TOP10 wanted programming languages in 2018\")\n",
    "for x, y in enumerate(df_18d_10.Mentioned_times.sort_values()):\n",
    "    plt.text(y + 800, x + 0.9, '%s' % y)\n",
    "    \n",
    "plt.show()"
   ]
  },
  {
   "cell_type": "markdown",
   "metadata": {},
   "source": [
    "Surprisingly I find out that **JavaScript was in 2017 and is in 2018 the TOP1 used language**, the result is different than I expected.Since recently Pyhton gets more and more popular.But when I look at the TOP wanted languages, **Python is ranked 2nd** just after JavaScript in both year.\n",
    "\n",
    "_In 2018 there are few newcomers in TOP10 list, such as HTML, Bash/Shell.Because they are suddenly so frequently used in 2018?_"
   ]
  },
  {
   "cell_type": "code",
   "execution_count": 73,
   "metadata": {},
   "outputs": [
    {
     "data": {
      "text/plain": [
       "['HTML',\n",
       " 'CSS',\n",
       " 'Bash/Shell',\n",
       " 'Kotlin',\n",
       " 'Cobol',\n",
       " 'Delphi/Object Pascal',\n",
       " 'Ocaml']"
      ]
     },
     "execution_count": 73,
     "metadata": {},
     "output_type": "execute_result"
    }
   ],
   "source": [
    "# Check if those newcomers were in 2017's survey?\n",
    "\n",
    "new_option_18 = []\n",
    "\n",
    "for l in list(df_18n.Language):\n",
    "    if l not in list(df_17n.Language):\n",
    "        new_option_18.append(l)\n",
    "        \n",
    "new_option_18"
   ]
  },
  {
   "cell_type": "code",
   "execution_count": 96,
   "metadata": {},
   "outputs": [
    {
     "data": {
      "text/plain": [
       "['Elixir', 'Smalltalk', 'Common Lisp', 'Dart']"
      ]
     },
     "execution_count": 96,
     "metadata": {},
     "output_type": "execute_result"
    }
   ],
   "source": [
    "# Check if any option was removed in 2018's survey?\n",
    "\n",
    "removed_option_17 = []\n",
    "\n",
    "for l in list(df_17n.Language):\n",
    "    if l not in list(df_18n.Language):\n",
    "        removed_option_17.append(l)\n",
    "        \n",
    "removed_option_17"
   ]
  },
  {
   "cell_type": "markdown",
   "metadata": {},
   "source": [
    "Ok, those languages **(HTML, CSS, Bash/Shell, Kotlin, Cobol, Delphi/Object Pascal, Ocaml) are newly added to survey 2018**,not become famous overnight. Furthermore, 4 languages (**Elixir, Smalltalk, Common Lisp, Dart) are removed in survey 2018**."
   ]
  },
  {
   "cell_type": "markdown",
   "metadata": {},
   "source": [
    "### Quesion 2\n",
    "**How the propotion of male and female programmers look like?**\n",
    "\n",
    "_To answer this question, I need the columns **'Gender'**._"
   ]
  },
  {
   "cell_type": "code",
   "execution_count": 81,
   "metadata": {},
   "outputs": [
    {
     "data": {
      "text/plain": [
       "(51392, 1)"
      ]
     },
     "execution_count": 81,
     "metadata": {},
     "output_type": "execute_result"
    }
   ],
   "source": [
    "# create subsets for analysis.\n",
    "\n",
    "sub_17 = df_17[['Gender']]\n",
    "sub_18 = df_18[['Gender']]\n",
    "sub_17.shape"
   ]
  },
  {
   "cell_type": "code",
   "execution_count": 95,
   "metadata": {},
   "outputs": [
    {
     "name": "stdout",
     "output_type": "stream",
     "text": [
      "Percentage of male programmers in 2017: 90.1 %\n",
      "Percentage of female programmers in 2017: 7.4 %\n"
     ]
    }
   ],
   "source": [
    "# Print out the percentages\n",
    "\n",
    "print('Percentage of male programmers in 2017: {:.1f} %'.format(list(sub_17.Gender.dropna()).count('Male')*100/sub_17.Gender.dropna().shape[0]))\n",
    "print('Percentage of female programmers in 2017: {:.1f} %'.format(list(sub_17.Gender.dropna()).count('Female')*100/sub_17.Gender.dropna().shape[0]))"
   ]
  },
  {
   "cell_type": "code",
   "execution_count": 83,
   "metadata": {},
   "outputs": [
    {
     "name": "stdout",
     "output_type": "stream",
     "text": [
      "Percentage of male programmers in 2018: 92.2 %\n",
      "Percentage of female programmers in 2018: 6.2 %\n"
     ]
    }
   ],
   "source": [
    "print('Percentage of male programmers in 2018: {:.1f} %'.format(list(sub_18.Gender.dropna()).count('Male')*100/sub_18.Gender.dropna().shape[0]))\n",
    "print('Percentage of female programmers in 2018: {:.1f} %'.format(list(sub_18.Gender.dropna()).count('Female')*100/sub_18.Gender.dropna().shape[0]))"
   ]
  },
  {
   "cell_type": "markdown",
   "metadata": {},
   "source": [
    "From  the analysis above, we see clearly that programming is a profession with a **high disproportion of males to females**."
   ]
  },
  {
   "cell_type": "markdown",
   "metadata": {},
   "source": [
    "### Quesion 3\n",
    "**Where are the respondents from, how it changes over time?**\n",
    "\n",
    "_To answer this question, I need column 'Country'._"
   ]
  },
  {
   "cell_type": "code",
   "execution_count": 181,
   "metadata": {},
   "outputs": [],
   "source": [
    "# Create the subsets\n",
    "\n",
    "sub_17c = df_17[['Country']].dropna()\n",
    "sub_18c = df_18[['Country']].dropna()"
   ]
  },
  {
   "cell_type": "code",
   "execution_count": 182,
   "metadata": {},
   "outputs": [
    {
     "data": {
      "text/html": [
       "<div>\n",
       "<style scoped>\n",
       "    .dataframe tbody tr th:only-of-type {\n",
       "        vertical-align: middle;\n",
       "    }\n",
       "\n",
       "    .dataframe tbody tr th {\n",
       "        vertical-align: top;\n",
       "    }\n",
       "\n",
       "    .dataframe thead th {\n",
       "        text-align: right;\n",
       "    }\n",
       "</style>\n",
       "<table border=\"1\" class=\"dataframe\">\n",
       "  <thead>\n",
       "    <tr style=\"text-align: right;\">\n",
       "      <th></th>\n",
       "      <th>Country</th>\n",
       "    </tr>\n",
       "  </thead>\n",
       "  <tbody>\n",
       "    <tr>\n",
       "      <th>United States</th>\n",
       "      <td>0.222895</td>\n",
       "    </tr>\n",
       "    <tr>\n",
       "      <th>India</th>\n",
       "      <td>0.101125</td>\n",
       "    </tr>\n",
       "    <tr>\n",
       "      <th>United Kingdom</th>\n",
       "      <td>0.085519</td>\n",
       "    </tr>\n",
       "    <tr>\n",
       "      <th>Germany</th>\n",
       "      <td>0.080616</td>\n",
       "    </tr>\n",
       "    <tr>\n",
       "      <th>Canada</th>\n",
       "      <td>0.043450</td>\n",
       "    </tr>\n",
       "  </tbody>\n",
       "</table>\n",
       "</div>"
      ],
      "text/plain": [
       "                 Country\n",
       "United States   0.222895\n",
       "India           0.101125\n",
       "United Kingdom  0.085519\n",
       "Germany         0.080616\n",
       "Canada          0.043450"
      ]
     },
     "execution_count": 182,
     "metadata": {},
     "output_type": "execute_result"
    }
   ],
   "source": [
    "# Check the TOP5 countries and prepare data for pie-charts.\n",
    "\n",
    "pie_17 = pd.DataFrame(sub_17c.Country.value_counts().head(5)/sub_17c.shape[0])\n",
    "pie_18 = pd.DataFrame(sub_18c.Country.value_counts().head(5)/sub_18c.shape[0])\n",
    "pie_17"
   ]
  },
  {
   "cell_type": "code",
   "execution_count": 183,
   "metadata": {
    "scrolled": false
   },
   "outputs": [
    {
     "data": {
      "text/plain": [
       "([<matplotlib.patches.Wedge at 0x1f6c78db588>,\n",
       "  <matplotlib.patches.Wedge at 0x1f6c78dbc88>,\n",
       "  <matplotlib.patches.Wedge at 0x1f6c78e3470>,\n",
       "  <matplotlib.patches.Wedge at 0x1f6c78e3c18>,\n",
       "  <matplotlib.patches.Wedge at 0x1f6c78ee400>,\n",
       "  <matplotlib.patches.Wedge at 0x1f6c78eeba8>],\n",
       " [Text(0.876944,0.664055,'United States'),\n",
       "  Text(-0.178848,1.08536,'India'),\n",
       "  Text(-0.794676,0.760585,'Germany'),\n",
       "  Text(-1.02994,0.386295,'United Kingdom'),\n",
       "  Text(-1.09851,0.0571939,'Canada'),\n",
       "  Text(0.0309402,-1.09956,'Other')],\n",
       " [Text(0.478333,0.362212,'20.6 %'),\n",
       "  Text(-0.0975533,0.592016,'13.9 %'),\n",
       "  Text(-0.43346,0.414865,'6.6 %'),\n",
       "  Text(-0.561785,0.210706,'6.3 %'),\n",
       "  Text(-0.599188,0.0311967,'3.4 %'),\n",
       "  Text(0.0168765,-0.599763,'49.1 %')])"
      ]
     },
     "execution_count": 183,
     "metadata": {},
     "output_type": "execute_result"
    },
    {
     "data": {
      "image/png": "[encoded data removed]",
      "text/plain": [
       "<matplotlib.figure.Figure at 0x1f6c771c9e8>"
      ]
     },
     "metadata": {},
     "output_type": "display_data"
    }
   ],
   "source": [
    "pie_17.loc['Other'] = 1-sum(pie_17['Country'])\n",
    "pie_18.loc['Other'] = 1-sum(pie_18['Country'])\n",
    "plt.figure(figsize=(12,6))\n",
    "\n",
    "plt.subplot(1,2,1)\n",
    "plt.title('Respondents Nationality Distrbution in 2017')\n",
    "plt.pie(x = pie_17.Country, labels = pie_17.index,autopct='%3.1f %%')\n",
    "\n",
    "plt.subplot(1,2,2)\n",
    "plt.title('Respondents Nationality Distrbution in 2018')\n",
    "plt.pie(x = pie_18.Country, labels = pie_18.index,autopct='%3.1f %%')"
   ]
  },
  {
   "cell_type": "markdown",
   "metadata": {},
   "source": [
    "Respondents from **US, India, UK, Germany, Canada** ranked TOP5 for both 2017 and 2018. "
   ]
  },
  {
   "cell_type": "code",
   "execution_count": 103,
   "metadata": {},
   "outputs": [
    {
     "name": "stdout",
     "output_type": "stream",
     "text": [
      "0.004650529265255293\n",
      "0.010534014607437806\n"
     ]
    }
   ],
   "source": [
    "# Just wonder how many chinese users are there\n",
    "\n",
    "print(list(sub_17c.Country).count('China')/sub_17c.shape[0])\n",
    "print(list(sub_18c.Country).count('China')/sub_18c.shape[0])"
   ]
  },
  {
   "cell_type": "code",
   "execution_count": null,
   "metadata": {},
   "outputs": [],
   "source": []
  }
 ],
 "metadata": {
  "kernelspec": {
   "display_name": "Python 3",
   "language": "python",
   "name": "python3"
  },
  "language_info": {
   "codemirror_mode": {
    "name": "ipython",
    "version": 3
   },
   "file_extension": ".py",
   "mimetype": "text/x-python",
   "name": "python",
   "nbconvert_exporter": "python",
   "pygments_lexer": "ipython3",
   "version": "3.6.6"
  }
 },
 "nbformat": 4,
 "nbformat_minor": 2
}
